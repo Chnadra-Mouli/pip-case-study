{
 "cells": [
  {
   "cell_type": "code",
   "execution_count": 2,
   "id": "4269d63d",
   "metadata": {},
   "outputs": [],
   "source": [
    "import numpy as np\n",
    "import pandas as pd\n",
    "import matplotlib.pyplot as plt\n",
    "import glob\n",
    "import os\n",
    "import json"
   ]
  },
  {
   "cell_type": "code",
   "execution_count": null,
   "id": "077dfb87",
   "metadata": {},
   "outputs": [],
   "source": [
    "with open('RXZlbnRJbmZvcm1hdGlvbjo0OWQ4M2I3MS1kNDZmLTRiYjMtODJkYy1kMTE0MDg4OTBkOGQ=.json','r') as f:\n",
    "         data = json.loads(f.read())\n",
    "         # Flatten data\n",
    "         df= pd.json_normalize(data)"
   ]
  },
  {
   "cell_type": "code",
   "execution_count": null,
   "id": "86bdbf01",
   "metadata": {},
   "outputs": [],
   "source": [
    "for i in glob.glob('C:/Users/chandra.gorripat/Downloads/Raw_data/*[0-9][0-9][0-9]'):\n",
    "    json_files = glob.glob(os.path.join(i, \"*.json\"))\n",
    "    csv_files = glob.glob(os.path.join(i, \"*.csv\"))\n",
    "    print(i)\n",
    "    for f in json_files:\n",
    "        #print(f)\n",
    "        t=f[:-4]+'csv'\n",
    "        #print(t)\n",
    "        df1=pd.read_csv(t)\n",
    "        #print(df1)\n",
    "        with open(f,'r') as f:\n",
    "         data = json.loads(f.read())\n",
    "         # Flatten data\n",
    "         df2 = pd.json_normalize(data)\n",
    "        #*********************************************************************************\n",
    "        df2['min_sum']=df1['sum'].min()\n",
    "        df2['max_sum']=df1['sum'].max()\n",
    "        df2['mean_sum']=df1['sum'].mean()\n",
    "        df2['std_sum']=df1['sum'].std()\n",
    "        df2['duration_of_event']=df1['timestamp'].max()\n",
    "        #shits**************************************\n",
    "        df1['max_l']=0\n",
    "        df1['min_l']=0\n",
    "        for i in range(df1.shape[0]):\n",
    "            a=df1['lc0'][i]\n",
    "            b=df1['lc1'][i]\n",
    "            c=df1['lc2'][i]\n",
    "            d=df1['lc3'][i]\n",
    "            if max(a,b,c,d)==a:\n",
    "                df1['max_l'][i]=1\n",
    "            if max(a,b,c,d)==b:\n",
    "                df1['max_l'][i]=2\n",
    "            if max(a,b,c,d)==c:\n",
    "                df1['max_l'][i]=3    \n",
    "            if max(a,b,c,d)==d:\n",
    "                df1['max_l'][i]=4\n",
    "            if min(a,b,c,d)==a:\n",
    "                df1['min_l'][i]=1\n",
    "            if min(a,b,c,d)==b:\n",
    "                df1['min_l'][i]=2\n",
    "            if min(a,b,c,d)==c:\n",
    "                df1['min_l'][i]=3    \n",
    "            if min(a,b,c,d)==d:\n",
    "                df1['min_l'][i]=4 \n",
    "                \n",
    "        \n",
    "        count_max_shift=0\n",
    "        count_min_shift=0\n",
    "\n",
    "        for i in range(1,df1.shape[0]):\n",
    "            if df1['max_l'][i]!=df1['max_l'][i-1]:\n",
    "                 count_max_shift=count_max_shift+1\n",
    "            if df1['min_l'][i]!=df1['min_l'][i-1]:\n",
    "                 count_min_shift=count_min_shift+1    \n",
    "        #**********************************************************************************\n",
    "        df2['count_max_shift']=count_max_shift\n",
    "        df2['count_min_shift']=count_min_shift\n",
    "        df=df.append(df2)\n",
    "        #print(df2)"
   ]
  },
  {
   "cell_type": "code",
   "execution_count": null,
   "id": "41889522",
   "metadata": {},
   "outputs": [],
   "source": [
    "df.reset_index(inplace = True)\n",
    "df.drop(['index'], axis=1)"
   ]
  },
  {
   "cell_type": "code",
   "execution_count": null,
   "id": "658835a8",
   "metadata": {},
   "outputs": [],
   "source": [
    "df.to_csv('file2.csv')"
   ]
  }
 ],
 "metadata": {
  "kernelspec": {
   "display_name": "Python 3 (ipykernel)",
   "language": "python",
   "name": "python3"
  },
  "language_info": {
   "codemirror_mode": {
    "name": "ipython",
    "version": 3
   },
   "file_extension": ".py",
   "mimetype": "text/x-python",
   "name": "python",
   "nbconvert_exporter": "python",
   "pygments_lexer": "ipython3",
   "version": "3.9.1"
  }
 },
 "nbformat": 4,
 "nbformat_minor": 5
}
